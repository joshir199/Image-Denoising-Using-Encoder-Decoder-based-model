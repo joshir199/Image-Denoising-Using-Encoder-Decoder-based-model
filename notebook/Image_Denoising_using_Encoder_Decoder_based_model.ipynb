{
  "nbformat": 4,
  "nbformat_minor": 0,
  "metadata": {
    "colab": {
      "provenance": []
    },
    "kernelspec": {
      "name": "python3",
      "display_name": "Python 3"
    },
    "language_info": {
      "name": "python"
    }
  },
  "cells": [
    {
      "cell_type": "code",
      "source": [
        "# Understanding and implementing Encoder Decoder based Image denoising model for\n",
        "# cleaning the noise from the image and making it better."
      ],
      "metadata": {
        "id": "Z8DCgep81KJY"
      },
      "execution_count": null,
      "outputs": []
    },
    {
      "cell_type": "code",
      "execution_count": 1,
      "metadata": {
        "id": "m1Z_IrJpZggT"
      },
      "outputs": [],
      "source": [
        "import torch\n",
        "import torchvision\n",
        "from torchvision.transforms import v2\n",
        "from torch.utils.data import DataLoader\n",
        "import torch.nn as nn\n",
        "import os\n",
        "import matplotlib.pyplot as plt\n",
        "import warnings\n",
        "import random\n",
        "from torchsummary import summary"
      ]
    },
    {
      "cell_type": "code",
      "source": [
        "warnings.filterwarnings('ignore')\n",
        "warnings.simplefilter('ignore')\n",
        "random.seed(33)\n",
        "torch.__version__"
      ],
      "metadata": {
        "colab": {
          "base_uri": "https://localhost:8080/",
          "height": 35
        },
        "id": "O29wT3cOZtBU",
        "outputId": "5bc96e59-e435-469d-e663-81685ffc5d9e"
      },
      "execution_count": 2,
      "outputs": [
        {
          "output_type": "execute_result",
          "data": {
            "text/plain": [
              "'2.1.0+cu118'"
            ],
            "application/vnd.google.colaboratory.intrinsic+json": {
              "type": "string"
            }
          },
          "metadata": {},
          "execution_count": 2
        }
      ]
    },
    {
      "cell_type": "code",
      "source": [
        "def getTransformFn(image_size):\n",
        "    compose = v2.Compose([v2.RandomHorizontalFlip(),\n",
        "                                  v2.Resize((image_size, image_size)),\n",
        "                                  v2.ToImage(),\n",
        "                                  v2.ToDtype(torch.float32, scale=True)\n",
        "                                  ])\n",
        "    return compose\n",
        "\n",
        "\n",
        "def showData(data_point, image_size):\n",
        "    plt.imshow(data_point[0].numpy().reshape(image_size, image_size), cmap='gray')\n",
        "    plt.title('y = ' + str(data_point[1]))\n",
        "    plt.show()"
      ],
      "metadata": {
        "id": "srppcVISZ9K6"
      },
      "execution_count": 3,
      "outputs": []
    },
    {
      "cell_type": "code",
      "source": [
        "# download image dataset Fashion MNIST images\n",
        "def get_train_dataset(image_size):\n",
        "  transform = getTransformFn(image_size)\n",
        "  train_dataset = torchvision.datasets.FashionMNIST(root='./data', train=True,\n",
        "                                                    download=True,\n",
        "                                                    transform=transform)\n",
        "  return train_dataset\n",
        "\n",
        "def get_validate_dataset(image_size):\n",
        "  compose = v2.Compose([v2.Resize((image_size, image_size)),\n",
        "                                v2.ToImage(),\n",
        "                                v2.ToDtype(torch.float32, scale=True)])\n",
        "  validate_dataset = torchvision.datasets.FashionMNIST(root='./data', train=False,\n",
        "                                                       download=True,\n",
        "                                                       transform=compose)\n",
        "  return validate_dataset"
      ],
      "metadata": {
        "id": "m69LfNUVaCmy"
      },
      "execution_count": 4,
      "outputs": []
    },
    {
      "cell_type": "code",
      "source": [
        "# hyper parameters\n",
        "image_size = 28\n",
        "channels = 1\n",
        "batch_size = 100\n",
        "\n",
        "train_dataloader = DataLoader(dataset=get_train_dataset(image_size), batch_size=batch_size)\n",
        "validate_dataloader = DataLoader(dataset=get_validate_dataset(image_size), batch_size=batch_size)"
      ],
      "metadata": {
        "colab": {
          "base_uri": "https://localhost:8080/"
        },
        "id": "4pJTzaFoaFPr",
        "outputId": "d47c0686-e9ee-4767-8879-9b0f35ea38a0"
      },
      "execution_count": 5,
      "outputs": [
        {
          "output_type": "stream",
          "name": "stdout",
          "text": [
            "Downloading http://fashion-mnist.s3-website.eu-central-1.amazonaws.com/train-images-idx3-ubyte.gz\n",
            "Downloading http://fashion-mnist.s3-website.eu-central-1.amazonaws.com/train-images-idx3-ubyte.gz to ./data/FashionMNIST/raw/train-images-idx3-ubyte.gz\n"
          ]
        },
        {
          "output_type": "stream",
          "name": "stderr",
          "text": [
            "100%|██████████| 26421880/26421880 [00:01<00:00, 15646850.02it/s]\n"
          ]
        },
        {
          "output_type": "stream",
          "name": "stdout",
          "text": [
            "Extracting ./data/FashionMNIST/raw/train-images-idx3-ubyte.gz to ./data/FashionMNIST/raw\n",
            "\n",
            "Downloading http://fashion-mnist.s3-website.eu-central-1.amazonaws.com/train-labels-idx1-ubyte.gz\n",
            "Downloading http://fashion-mnist.s3-website.eu-central-1.amazonaws.com/train-labels-idx1-ubyte.gz to ./data/FashionMNIST/raw/train-labels-idx1-ubyte.gz\n"
          ]
        },
        {
          "output_type": "stream",
          "name": "stderr",
          "text": [
            "100%|██████████| 29515/29515 [00:00<00:00, 277266.11it/s]\n"
          ]
        },
        {
          "output_type": "stream",
          "name": "stdout",
          "text": [
            "Extracting ./data/FashionMNIST/raw/train-labels-idx1-ubyte.gz to ./data/FashionMNIST/raw\n",
            "\n",
            "Downloading http://fashion-mnist.s3-website.eu-central-1.amazonaws.com/t10k-images-idx3-ubyte.gz\n",
            "Downloading http://fashion-mnist.s3-website.eu-central-1.amazonaws.com/t10k-images-idx3-ubyte.gz to ./data/FashionMNIST/raw/t10k-images-idx3-ubyte.gz\n"
          ]
        },
        {
          "output_type": "stream",
          "name": "stderr",
          "text": [
            "100%|██████████| 4422102/4422102 [00:00<00:00, 5055993.77it/s]\n"
          ]
        },
        {
          "output_type": "stream",
          "name": "stdout",
          "text": [
            "Extracting ./data/FashionMNIST/raw/t10k-images-idx3-ubyte.gz to ./data/FashionMNIST/raw\n",
            "\n",
            "Downloading http://fashion-mnist.s3-website.eu-central-1.amazonaws.com/t10k-labels-idx1-ubyte.gz\n",
            "Downloading http://fashion-mnist.s3-website.eu-central-1.amazonaws.com/t10k-labels-idx1-ubyte.gz to ./data/FashionMNIST/raw/t10k-labels-idx1-ubyte.gz\n"
          ]
        },
        {
          "output_type": "stream",
          "name": "stderr",
          "text": [
            "100%|██████████| 5148/5148 [00:00<00:00, 19227317.00it/s]"
          ]
        },
        {
          "output_type": "stream",
          "name": "stdout",
          "text": [
            "Extracting ./data/FashionMNIST/raw/t10k-labels-idx1-ubyte.gz to ./data/FashionMNIST/raw\n",
            "\n"
          ]
        },
        {
          "output_type": "stream",
          "name": "stderr",
          "text": [
            "\n"
          ]
        }
      ]
    },
    {
      "cell_type": "code",
      "source": [
        "data = get_train_dataset(image_size)\n",
        "len(data)"
      ],
      "metadata": {
        "colab": {
          "base_uri": "https://localhost:8080/"
        },
        "id": "zW39TSOvaHxR",
        "outputId": "6638a186-4c85-4acb-ec7e-c5324da480cd"
      },
      "execution_count": 6,
      "outputs": [
        {
          "output_type": "execute_result",
          "data": {
            "text/plain": [
              "60000"
            ]
          },
          "metadata": {},
          "execution_count": 6
        }
      ]
    },
    {
      "cell_type": "code",
      "source": [
        "# Input image dataset\n",
        "data[0][0].shape"
      ],
      "metadata": {
        "colab": {
          "base_uri": "https://localhost:8080/"
        },
        "id": "M7Ll64_XaL8u",
        "outputId": "7354a45e-8a60-4397-f70a-33a12ba22fde"
      },
      "execution_count": 7,
      "outputs": [
        {
          "output_type": "execute_result",
          "data": {
            "text/plain": [
              "torch.Size([1, 28, 28])"
            ]
          },
          "metadata": {},
          "execution_count": 7
        }
      ]
    },
    {
      "cell_type": "code",
      "source": [
        "showData(data[90], image_size)"
      ],
      "metadata": {
        "colab": {
          "base_uri": "https://localhost:8080/",
          "height": 452
        },
        "id": "XfjFpFShaQKR",
        "outputId": "74247d5a-62a9-4c12-bf77-59611943cca4"
      },
      "execution_count": 8,
      "outputs": [
        {
          "output_type": "display_data",
          "data": {
            "text/plain": [
              "<Figure size 640x480 with 1 Axes>"
            ],
            "image/png": "[encoded data removed]"
          },
          "metadata": {}
        }
      ]
    },
    {
      "cell_type": "code",
      "source": [
        "# show image with noise\n",
        "def showNoisyData(data_point, image_size, noise_factor):\n",
        "  data_point = data_point[0] + torch.randn_like(data_point[0])*noise_factor\n",
        "  data_point = torch.clip(data_point, min=0.0, max=1.0)\n",
        "  plt.imshow(data_point.numpy().reshape(image_size, image_size), cmap='gray')\n",
        "  plt.show()"
      ],
      "metadata": {
        "id": "EtdOR5icauct"
      },
      "execution_count": 9,
      "outputs": []
    },
    {
      "cell_type": "code",
      "source": [
        "showNoisyData(data[90], image_size, 0.1)"
      ],
      "metadata": {
        "colab": {
          "base_uri": "https://localhost:8080/",
          "height": 430
        },
        "id": "WHhxc7O-cH0O",
        "outputId": "072300d8-c06a-46c2-bb06-502c910fde38"
      },
      "execution_count": 10,
      "outputs": [
        {
          "output_type": "display_data",
          "data": {
            "text/plain": [
              "<Figure size 640x480 with 1 Axes>"
            ],
            "image/png": "[encoded data removed]"
          },
          "metadata": {}
        }
      ]
    },
    {
      "cell_type": "code",
      "source": [
        "# Encoder Decoder based Image Denoising model\n",
        "class ImageDenoisingModel(nn.Module):\n",
        "\n",
        "  def __init__(self, image_size, channels=1):\n",
        "     super(ImageDenoisingModel, self).__init__()\n",
        "\n",
        "     self.image_size = image_size\n",
        "     self.channels = channels\n",
        "     self.conv2d_1 = nn.Conv2d(in_channels=self.channels, out_channels=32, kernel_size=3, stride=2, padding=1)\n",
        "     self.relu1 = nn.ReLU()\n",
        "     self.conv2d_2 = nn.Conv2d(in_channels=32, out_channels=16, kernel_size=3, stride=2, padding=1)\n",
        "     self.relu2 = nn.ReLU()\n",
        "\n",
        "     self.conv_transpose_1 = nn.ConvTranspose2d(in_channels=16, out_channels=32, kernel_size=3, stride=2, padding=1, output_padding=1)\n",
        "     self.relu3 = nn.ReLU()\n",
        "     self.conv_transpose_2 = nn.ConvTranspose2d(in_channels=32, out_channels=64, kernel_size=3, stride=2, padding=1, output_padding=1)\n",
        "     self.relu4 = nn.ReLU()\n",
        "     self.conv2d_3 = nn.Conv2d(in_channels=64, out_channels=1, kernel_size=3, stride=1, padding=1)\n",
        "     self.sigmoid = nn.Sigmoid()\n",
        "\n",
        "\n",
        "\n",
        "  def forward(self, x):\n",
        "\n",
        "    x = self.conv2d_1(x)\n",
        "    x = self.relu1(x)\n",
        "    x = self.conv2d_2(x)\n",
        "    x = self.relu2(x)\n",
        "\n",
        "    x = self.conv_transpose_1(x)\n",
        "    x = self.relu3(x)\n",
        "    x = self.conv_transpose_2(x)\n",
        "    x = self.relu4(x)\n",
        "    x = self.conv2d_3(x)\n",
        "    x = self.sigmoid(x)\n",
        "\n",
        "    return x"
      ],
      "metadata": {
        "id": "0tLuPLYxaTGG"
      },
      "execution_count": 11,
      "outputs": []
    },
    {
      "cell_type": "code",
      "source": [
        "# Printing model summary and number of trainable parameters\n",
        "model1 = ImageDenoisingModel(28, channels=1)\n",
        "summary(model1, input_size=(1,28,28))"
      ],
      "metadata": {
        "colab": {
          "base_uri": "https://localhost:8080/"
        },
        "id": "V77QLOxDaXta",
        "outputId": "d52b1ffa-17c0-43a9-b570-2a99842cffa7"
      },
      "execution_count": 12,
      "outputs": [
        {
          "output_type": "stream",
          "name": "stdout",
          "text": [
            "----------------------------------------------------------------\n",
            "        Layer (type)               Output Shape         Param #\n",
            "================================================================\n",
            "            Conv2d-1           [-1, 32, 14, 14]             320\n",
            "              ReLU-2           [-1, 32, 14, 14]               0\n",
            "            Conv2d-3             [-1, 16, 7, 7]           4,624\n",
            "              ReLU-4             [-1, 16, 7, 7]               0\n",
            "   ConvTranspose2d-5           [-1, 32, 14, 14]           4,640\n",
            "              ReLU-6           [-1, 32, 14, 14]               0\n",
            "   ConvTranspose2d-7           [-1, 64, 28, 28]          18,496\n",
            "              ReLU-8           [-1, 64, 28, 28]               0\n",
            "            Conv2d-9            [-1, 1, 28, 28]             577\n",
            "          Sigmoid-10            [-1, 1, 28, 28]               0\n",
            "================================================================\n",
            "Total params: 28,657\n",
            "Trainable params: 28,657\n",
            "Non-trainable params: 0\n",
            "----------------------------------------------------------------\n",
            "Input size (MB): 0.00\n",
            "Forward/backward pass size (MB): 0.98\n",
            "Params size (MB): 0.11\n",
            "Estimated Total Size (MB): 1.09\n",
            "----------------------------------------------------------------\n"
          ]
        }
      ]
    },
    {
      "cell_type": "code",
      "source": [
        "# training model\n",
        "def train_model(model, train_loader, validation_loader, optimizer, image_size, n_epochs=5, noise_factor=0.2):\n",
        "  # global variable\n",
        "  N_test = len(get_validate_dataset(image_size))\n",
        "  print(\" Number of test images: \", N_test)\n",
        "  accuracy_list = []\n",
        "  loss_list = []\n",
        "  criterion = nn.MSELoss()\n",
        "\n",
        "  for epoch in range(n_epochs):\n",
        "    print(\" starting epoch number {}/{} ....\".format(epoch, epochs))\n",
        "\n",
        "    for x, label in train_loader:\n",
        "      # call train() on model which extents nn.module\n",
        "      #if cuda:\n",
        "      #  x, label = x.cuda(), label.cuda()\n",
        "      #  model = model.cuda()\n",
        "\n",
        "      # adding noise to the image\n",
        "      data = x + torch.randn_like(x)*noise_factor\n",
        "      data = torch.clip(data, min=0.0, max=1.0)\n",
        "\n",
        "      model.train()\n",
        "      # reset the weights derivative values\n",
        "      optimizer.zero_grad()\n",
        "      # predict the output\n",
        "      pred = model(data)\n",
        "      # calculate Mean Squared loss\n",
        "      loss = criterion(pred, x)\n",
        "      # Calculate derivative of loss w.r.t weights\n",
        "      loss.backward()\n",
        "      # update the weights value\n",
        "      optimizer.step()\n",
        "\n",
        "      loss_list.append(loss.data)\n",
        "\n",
        "  return loss_list"
      ],
      "metadata": {
        "id": "vVW3cb1paXfk"
      },
      "execution_count": 14,
      "outputs": []
    },
    {
      "cell_type": "code",
      "source": [
        "lr = 0.0005\n",
        "epochs = 10\n",
        "model = ImageDenoisingModel(image_size, channels)\n",
        "optimizer = torch.optim.Adam(model.parameters())"
      ],
      "metadata": {
        "id": "UxFXOdCOaae-"
      },
      "execution_count": 15,
      "outputs": []
    },
    {
      "cell_type": "code",
      "source": [
        "loss = train_model(model, train_dataloader, validate_dataloader, optimizer, image_size, epochs, 0.1)"
      ],
      "metadata": {
        "colab": {
          "base_uri": "https://localhost:8080/"
        },
        "id": "ig6PCareac8p",
        "outputId": "7e09ef07-03ca-4bab-88ab-e9133103de0e"
      },
      "execution_count": 16,
      "outputs": [
        {
          "output_type": "stream",
          "name": "stdout",
          "text": [
            " Number of test images:  10000\n",
            " starting epoch number 0/10 ....\n",
            " starting epoch number 1/10 ....\n",
            " starting epoch number 2/10 ....\n",
            " starting epoch number 3/10 ....\n",
            " starting epoch number 4/10 ....\n",
            " starting epoch number 5/10 ....\n",
            " starting epoch number 6/10 ....\n",
            " starting epoch number 7/10 ....\n",
            " starting epoch number 8/10 ....\n",
            " starting epoch number 9/10 ....\n"
          ]
        }
      ]
    },
    {
      "cell_type": "code",
      "source": [
        "# plotting loss graph for training\n",
        "plt.plot(loss)\n",
        "plt.xlabel(\"batch iterations \")\n",
        "plt.ylabel(\"Cost/total loss \")\n",
        "plt.show()"
      ],
      "metadata": {
        "colab": {
          "base_uri": "https://localhost:8080/",
          "height": 449
        },
        "id": "-uElFZzGafF8",
        "outputId": "7990580c-328d-4ef7-fda5-3d08d3d848c8"
      },
      "execution_count": 17,
      "outputs": [
        {
          "output_type": "display_data",
          "data": {
            "text/plain": [
              "<Figure size 640x480 with 1 Axes>"
            ],
            "image/png": "[encoded data removed]"
          },
          "metadata": {}
        }
      ]
    },
    {
      "cell_type": "code",
      "source": [
        "validate_data = get_validate_dataset(image_size)\n",
        "showData(validate_data[5], image_size)"
      ],
      "metadata": {
        "colab": {
          "base_uri": "https://localhost:8080/",
          "height": 452
        },
        "id": "Y8GwqF-I0-Lc",
        "outputId": "1d4c469b-b832-4a3a-bad1-ac399fb91856"
      },
      "execution_count": 18,
      "outputs": [
        {
          "output_type": "display_data",
          "data": {
            "text/plain": [
              "<Figure size 640x480 with 1 Axes>"
            ],
            "image/png": "[encoded data removed]"
          },
          "metadata": {}
        }
      ]
    },
    {
      "cell_type": "code",
      "source": [
        "\n",
        "showNoisyData(validate_data[5], image_size, 0.1)"
      ],
      "metadata": {
        "colab": {
          "base_uri": "https://localhost:8080/",
          "height": 430
        },
        "id": "C-UOl7Ns1LOY",
        "outputId": "c51ea63d-bf6c-428d-c8b0-ac86400805f8"
      },
      "execution_count": 20,
      "outputs": [
        {
          "output_type": "display_data",
          "data": {
            "text/plain": [
              "<Figure size 640x480 with 1 Axes>"
            ],
            "image/png": "[encoded data removed]"
          },
          "metadata": {}
        }
      ]
    },
    {
      "cell_type": "code",
      "source": [
        "# evaluating on the new image\n",
        "model.eval()\n",
        "noise_factor = 0.1\n",
        "data_point = validate_data[5][0] + torch.randn_like(validate_data[5][0])*noise_factor\n",
        "data_point = torch.clip(data_point, min=0.0, max=1.0)\n",
        "output = model(data_point)"
      ],
      "metadata": {
        "id": "Yu24tFgh1Ipg"
      },
      "execution_count": 21,
      "outputs": []
    },
    {
      "cell_type": "code",
      "source": [
        "output.shape"
      ],
      "metadata": {
        "colab": {
          "base_uri": "https://localhost:8080/"
        },
        "id": "e3BDeCGb2CxO",
        "outputId": "25c6fb3e-516f-44a5-c1af-4c4ede9392e7"
      },
      "execution_count": 22,
      "outputs": [
        {
          "output_type": "execute_result",
          "data": {
            "text/plain": [
              "torch.Size([1, 28, 28])"
            ]
          },
          "metadata": {},
          "execution_count": 22
        }
      ]
    },
    {
      "cell_type": "code",
      "source": [
        "def showDataPredicted(data_point, image_size):\n",
        "    plt.imshow(data_point.numpy().reshape(image_size, image_size), cmap='gray')\n",
        "    plt.show()"
      ],
      "metadata": {
        "id": "NCO023He1XlE"
      },
      "execution_count": 23,
      "outputs": []
    },
    {
      "cell_type": "code",
      "source": [
        "showDataPredicted(output.detach(), image_size)"
      ],
      "metadata": {
        "colab": {
          "base_uri": "https://localhost:8080/",
          "height": 430
        },
        "id": "Wg5im1E71aPm",
        "outputId": "c48d3684-8f7d-4076-c93a-026f53b34811"
      },
      "execution_count": 24,
      "outputs": [
        {
          "output_type": "display_data",
          "data": {
            "text/plain": [
              "<Figure size 640x480 with 1 Axes>"
            ],
            "image/png": "[encoded data removed]"
          },
          "metadata": {}
        }
      ]
    },
    {
      "cell_type": "code",
      "source": [],
      "metadata": {
        "id": "QXwnlT0w2He5"
      },
      "execution_count": null,
      "outputs": []
    }
  ]
}
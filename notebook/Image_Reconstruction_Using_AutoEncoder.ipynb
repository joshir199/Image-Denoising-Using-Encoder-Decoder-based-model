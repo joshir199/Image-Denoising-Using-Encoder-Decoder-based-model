{
  "nbformat": 4,
  "nbformat_minor": 0,
  "metadata": {
    "colab": {
      "provenance": []
    },
    "kernelspec": {
      "name": "python3",
      "display_name": "Python 3"
    },
    "language_info": {
      "name": "python"
    }
  },
  "cells": [
    {
      "cell_type": "code",
      "source": [
        "# Understanding and implementing image reconstruction model for constructing\n",
        "# the original image from the latent space"
      ],
      "metadata": {
        "id": "HVyneJShvkc0"
      },
      "execution_count": null,
      "outputs": []
    },
    {
      "cell_type": "code",
      "execution_count": null,
      "metadata": {
        "id": "6Imk4ik6eqEt"
      },
      "outputs": [],
      "source": [
        "import torch\n",
        "import torchvision\n",
        "from torchvision.transforms import v2\n",
        "from torch.utils.data import DataLoader\n",
        "import torch.nn as nn\n",
        "import os\n",
        "import matplotlib.pyplot as plt\n",
        "import warnings\n",
        "import random"
      ]
    },
    {
      "cell_type": "code",
      "source": [
        "warnings.filterwarnings('ignore')\n",
        "warnings.simplefilter('ignore')\n",
        "random.seed(33)\n",
        "torch.__version__"
      ],
      "metadata": {
        "id": "vouDaZCDjT5D"
      },
      "execution_count": null,
      "outputs": []
    },
    {
      "cell_type": "code",
      "source": [
        "def getTransformFn(image_size):\n",
        "    compose = v2.Compose([v2.RandomHorizontalFlip(),\n",
        "                                  v2.Resize((image_size, image_size)),\n",
        "                                  v2.ToImage(),\n",
        "                                  v2.ToDtype(torch.float32, scale=True)\n",
        "                                  ])\n",
        "    return compose\n",
        "\n",
        "\n",
        "def showData(data_point, image_size):\n",
        "    plt.imshow(data_point[0].numpy().reshape(image_size, image_size), cmap='gray')\n",
        "    plt.title('y = ' + str(data_point[1]))\n",
        "    plt.show()"
      ],
      "metadata": {
        "id": "_gU6TO6ZoBoE"
      },
      "execution_count": 40,
      "outputs": []
    },
    {
      "cell_type": "code",
      "source": [
        "# download image dataset Fashion MNIST\n",
        "def get_train_dataset(image_size):\n",
        "  transform = getTransformFn(image_size)\n",
        "  train_dataset = torchvision.datasets.FashionMNIST(root='./data', train=True,\n",
        "                                                    download=True,\n",
        "                                                    transform=transform)\n",
        "  return train_dataset\n",
        "\n",
        "def get_validate_dataset(image_size):\n",
        "  compose = v2.Compose([v2.Resize((image_size, image_size)),\n",
        "                                v2.ToImage(),\n",
        "                                v2.ToDtype(torch.float32, scale=True)])\n",
        "  validate_dataset = torchvision.datasets.FashionMNIST(root='./data', train=False,\n",
        "                                                       download=True,\n",
        "                                                       transform=compose)\n",
        "  return validate_dataset\n",
        "\n",
        "\n"
      ],
      "metadata": {
        "id": "eJKQvNV4j4Fq"
      },
      "execution_count": 41,
      "outputs": []
    },
    {
      "cell_type": "code",
      "source": [
        "# hyper parameters\n",
        "image_size = 28\n",
        "channels = 1\n",
        "batch_size = 100\n",
        "\n",
        "train_dataloader = DataLoader(dataset=get_train_dataset(image_size), batch_size=batch_size)\n",
        "validate_dataloader = DataLoader(dataset=get_validate_dataset(image_size), batch_size=batch_size)\n",
        "\n"
      ],
      "metadata": {
        "id": "EVIhpE4Wm3j3"
      },
      "execution_count": 44,
      "outputs": []
    },
    {
      "cell_type": "code",
      "source": [
        "data = get_train_dataset(image_size)"
      ],
      "metadata": {
        "id": "sSLxWCbSpT7g"
      },
      "execution_count": 42,
      "outputs": []
    },
    {
      "cell_type": "code",
      "source": [
        "len(data)"
      ],
      "metadata": {
        "colab": {
          "base_uri": "https://localhost:8080/"
        },
        "id": "xuiKbdNZ6wwH",
        "outputId": "6b43092e-21ab-4a1f-99f3-b7996c796b2b"
      },
      "execution_count": 25,
      "outputs": [
        {
          "output_type": "execute_result",
          "data": {
            "text/plain": [
              "60000"
            ]
          },
          "metadata": {},
          "execution_count": 25
        }
      ]
    },
    {
      "cell_type": "code",
      "source": [
        "# Input Image shape\n",
        "data[1][0].shape"
      ],
      "metadata": {
        "colab": {
          "base_uri": "https://localhost:8080/"
        },
        "id": "BIP5ufiWsg_e",
        "outputId": "93031c84-de5e-479d-89e1-909f6c39b9cd"
      },
      "execution_count": 27,
      "outputs": [
        {
          "output_type": "execute_result",
          "data": {
            "text/plain": [
              "torch.Size([1, 28, 28])"
            ]
          },
          "metadata": {},
          "execution_count": 27
        }
      ]
    },
    {
      "cell_type": "code",
      "source": [
        "showData(data[90], image_size)"
      ],
      "metadata": {
        "colab": {
          "base_uri": "https://localhost:8080/",
          "height": 452
        },
        "id": "IQArfzMlpb04",
        "outputId": "8fbdf487-a46b-4004-b167-33d1cf2676c7"
      },
      "execution_count": 28,
      "outputs": [
        {
          "output_type": "display_data",
          "data": {
            "text/plain": [
              "<Figure size 640x480 with 1 Axes>"
            ],
            "image/png": "[encoded data removed]"
          },
          "metadata": {}
        }
      ]
    },
    {
      "cell_type": "code",
      "source": [
        "# Autoencoder based model for image reconstruction\n",
        "class ImageEncoderModel(nn.Module):\n",
        "\n",
        "  def __init__(self, image_size, latent_dim):\n",
        "     super(ImageEncoderModel, self).__init__()\n",
        "\n",
        "     self.image_size = image_size\n",
        "     self.latent_dim = latent_dim\n",
        "     self.flatten = nn.Flatten()\n",
        "     self.ln1 = nn.Linear(in_features=self.image_size*self.image_size,\n",
        "                          out_features= self.latent_dim)\n",
        "     self.relu1 = nn.ReLU()\n",
        "\n",
        "     self.ln2 = nn.Linear(in_features=self.latent_dim,\n",
        "                          out_features=self.image_size*self.image_size)\n",
        "     self.sigmoid = nn.Sigmoid()\n",
        "     self.unflatten = nn.Unflatten(1, torch.Size([1, self.image_size, self.image_size]))\n",
        "\n",
        "  def forward(self, x):\n",
        "\n",
        "    x = self.flatten(x)\n",
        "    x = self.ln1(x)\n",
        "    x = self.relu1(x)\n",
        "\n",
        "    x = self.ln2(x)\n",
        "    x = self.sigmoid(x)\n",
        "    x = self.unflatten(x)\n",
        "\n",
        "    return x\n"
      ],
      "metadata": {
        "id": "CffGozWHp8Wv"
      },
      "execution_count": 45,
      "outputs": []
    },
    {
      "cell_type": "code",
      "source": [
        "# printing the model summary\n",
        "from torchsummary import summary\n",
        "model1 = ImageEncoderModel(28, 64)\n",
        "summary(model1, input_size=(1,28,28))"
      ],
      "metadata": {
        "id": "5QH0zbBlUTAv"
      },
      "execution_count": null,
      "outputs": []
    },
    {
      "cell_type": "code",
      "source": [
        "print(model1)"
      ],
      "metadata": {
        "colab": {
          "base_uri": "https://localhost:8080/"
        },
        "id": "WBe4GqHET6WF",
        "outputId": "a6570bf7-5adf-4777-a7fa-b4ce1fb237ad"
      },
      "execution_count": 48,
      "outputs": [
        {
          "output_type": "stream",
          "name": "stdout",
          "text": [
            "ImageEncoderModel(\n",
            "  (flatten): Flatten(start_dim=1, end_dim=-1)\n",
            "  (ln1): Linear(in_features=784, out_features=64, bias=True)\n",
            "  (relu1): ReLU()\n",
            "  (ln2): Linear(in_features=64, out_features=784, bias=True)\n",
            "  (sigmoid): Sigmoid()\n",
            "  (unflatten): Unflatten(dim=1, unflattened_size=torch.Size([1, 28, 28]))\n",
            ")\n"
          ]
        }
      ]
    },
    {
      "cell_type": "code",
      "source": [
        "# training model\n",
        "def train_model(model, train_loader, validation_loader, optimizer, image_size, n_epochs=5):\n",
        "  # global variable\n",
        "  N_test = len(get_validate_dataset(image_size))\n",
        "  print(\" Number of test images: \", N_test)\n",
        "  accuracy_list = []\n",
        "  loss_list = []\n",
        "  criterion = nn.MSELoss()\n",
        "\n",
        "  for epoch in range(n_epochs):\n",
        "\n",
        "    for x, label in train_loader:\n",
        "      # call train() on model which extents nn.module\n",
        "      #if cuda:\n",
        "      #  x, label = x.cuda(), label.cuda()\n",
        "      #  model = model.cuda()\n",
        "\n",
        "      model.train()\n",
        "      # reset the weights derivative values\n",
        "      optimizer.zero_grad()\n",
        "      # predict the output\n",
        "      pred = model(x)\n",
        "      # calculate Mean Squared loss\n",
        "      loss = criterion(pred, x)\n",
        "      # Calculate derivative of loss w.r.t weights\n",
        "      loss.backward()\n",
        "      # update the weights value\n",
        "      optimizer.step()\n",
        "\n",
        "      loss_list.append(loss.data)\n",
        "\n",
        "  return loss_list"
      ],
      "metadata": {
        "id": "GMAihB0En37q"
      },
      "execution_count": 54,
      "outputs": []
    },
    {
      "cell_type": "code",
      "source": [
        "lr = 0.0005\n",
        "latent_dim = 64\n",
        "epochs = 10\n",
        "model = ImageEncoderModel(image_size, latent_dim)\n",
        "optimizer = torch.optim.Adam(model.parameters())\n",
        "\n"
      ],
      "metadata": {
        "id": "a1OOMFf1yPk5"
      },
      "execution_count": 53,
      "outputs": []
    },
    {
      "cell_type": "code",
      "source": [
        "loss = train_model(model, train_dataloader, validate_dataloader, optimizer, image_size, epochs)"
      ],
      "metadata": {
        "colab": {
          "base_uri": "https://localhost:8080/"
        },
        "id": "vAuclkTNzUHB",
        "outputId": "932ca069-e2d4-4703-e624-a20f11fd321b"
      },
      "execution_count": 55,
      "outputs": [
        {
          "output_type": "stream",
          "name": "stdout",
          "text": [
            " Number of test images:  10000\n"
          ]
        }
      ]
    },
    {
      "cell_type": "code",
      "source": [
        "# plot the loss graph\n",
        "plt.plot(loss)\n",
        "plt.xlabel(\"batch iterations \")\n",
        "plt.ylabel(\"Cost/total loss \")\n",
        "plt.show()"
      ],
      "metadata": {
        "id": "B1SNPq-EzvLT"
      },
      "execution_count": null,
      "outputs": []
    },
    {
      "cell_type": "code",
      "source": [
        "  validate_data = get_validate_dataset(image_size)\n",
        "  showData(validate_data[5], image_size)"
      ],
      "metadata": {
        "id": "HBE3Nvsn0rL-"
      },
      "execution_count": null,
      "outputs": []
    },
    {
      "cell_type": "code",
      "source": [
        "# Evaluate the model on new image\n",
        "model.eval()\n",
        "output = model(validate_data[5][0])"
      ],
      "metadata": {
        "id": "RaPrbb3P1QRM"
      },
      "execution_count": 58,
      "outputs": []
    },
    {
      "cell_type": "code",
      "source": [
        "output.shape"
      ],
      "metadata": {
        "colab": {
          "base_uri": "https://localhost:8080/"
        },
        "id": "9LSc9SEL12XV",
        "outputId": "51be7fb1-0401-4a58-bb07-f8690c3bfc01"
      },
      "execution_count": 59,
      "outputs": [
        {
          "output_type": "execute_result",
          "data": {
            "text/plain": [
              "torch.Size([1, 1, 28, 28])"
            ]
          },
          "metadata": {},
          "execution_count": 59
        }
      ]
    },
    {
      "cell_type": "code",
      "source": [
        "def showDataPredicted(data_point, image_size):\n",
        "    plt.imshow(data_point.numpy().reshape(image_size, image_size), cmap='gray')\n",
        "    plt.show()"
      ],
      "metadata": {
        "id": "nibrx92w2exQ"
      },
      "execution_count": 7,
      "outputs": []
    },
    {
      "cell_type": "code",
      "source": [
        "showDataPredicted(output.detach(), image_size)"
      ],
      "metadata": {
        "id": "WajRXfSq2yDN"
      },
      "execution_count": null,
      "outputs": []
    },
    {
      "cell_type": "code",
      "source": [],
      "metadata": {
        "id": "lEDrTmOG23RQ"
      },
      "execution_count": 19,
      "outputs": []
    }
  ]
}